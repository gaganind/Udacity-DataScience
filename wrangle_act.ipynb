{
 "cells": [
  {
   "cell_type": "code",
   "execution_count": 1,
   "metadata": {},
   "outputs": [],
   "source": [
    "import pandas as pd\n",
    "import numpy as np\n",
    "import requests\n",
    "import json\n",
    "import os\n",
    "import tweepy"
   ]
  },
  {
   "cell_type": "markdown",
   "metadata": {},
   "source": [
    "# Step 1: Data Gathering"
   ]
  },
  {
   "cell_type": "code",
   "execution_count": 2,
   "metadata": {},
   "outputs": [],
   "source": [
    "#Twitter Authentication\n",
    "\n",
<<<<<<< HEAD:wrangle_act.ipynb
    "consumer_key = ''\n",
    "consumer_secret = ''\n",
    "access_token = ''\n",
    "access_secret = ''\n",
=======
    "consumer_key = '',
    "consumer_secret = '',
    "access_token = '',
    "access_secret = '',
>>>>>>> 8c9e96d776c506943868b563a1f953ce8d1a8eb9:wrangle_act_final.ipynb
    "\n",
    "auth = tweepy.OAuthHandler(consumer_key, consumer_secret)\n",
    "auth.set_access_token(access_token, access_secret)\n",
    "api = tweepy.API(auth,wait_on_rate_limit=True)\n"
   ]
  },
  {
   "cell_type": "code",
   "execution_count": 3,
   "metadata": {},
   "outputs": [],
   "source": [
    "#Importing DataFrame 1(twitter_archive from existing file)\n",
    "\n",
    "twitter_archive=pd.read_csv(\"twitter-archive-enhanced.csv\")\n",
    "\n",
    "#Importing DataFrame 2(image_predictions from url link)\n",
    "url='https://d17h27t6h515a5.cloudfront.net/topher/2017/August/599fd2ad_image-predictions/image-predictions.tsv'\n",
    "response=requests.get(url)\n",
    "\n",
    "pred_file_name='image_predictions.tsv'\n",
    "arch_file_name='twitter-archive-enhanced'\n",
    "\n",
    "with open (os.path.join(pred_file_name), mode='wb') as filee:\n",
    "    filee.write(response.content)\n",
    "    \n",
    "image_predictions=pd.read_csv('image_predictions.tsv', sep='\\t')"
   ]
  },
  {
   "cell_type": "code",
   "execution_count": 4,
   "metadata": {},
   "outputs": [],
   "source": [
    "# Preparing copy of Dataframes (tw_copy,im_test)\n",
    "\n",
    "tw_copy=twitter_archive.copy()\n",
    "im_test=image_predictions.copy()\n"
   ]
  },
  {
   "cell_type": "code",
   "execution_count": 6,
   "metadata": {},
   "outputs": [
    {
     "name": "stdout",
     "output_type": "stream",
     "text": [
      "2344\n",
      "12\n"
     ]
    }
   ],
   "source": [
    "#Creating 3rd Data Frame(tweetinfo) from twitter API (Containing Tweet Info like Retweet count, Favorite count)\n",
    "# Removing tweets which not found / Deleted\n",
    "\n",
    "tweetlist=[]\n",
    "notfoundlist=[]\n",
    "\n",
    "for id in tw_copy.tweet_id:\n",
    "    try:\n",
    "        tweet = api.get_status(id)\n",
    "        with open('data.txt', 'a') as outfile:  \n",
    "            json.dump(tweet._json, outfile)\n",
    "        retweet=tweet._json['retweet_count']\n",
    "        favorite=tweet._json['favorite_count']\n",
    "        tweetlist.append([id,retweet,favorite])\n",
    "    except:\n",
    "        notfoundlist.append(id)\n",
    "        continue\n",
    "\n",
    "tweetinfo = pd.DataFrame(tweetlist, columns=('tweet_id', 'retweet_count', 'favorite_count'))\n",
    "\n",
    "print(tweetinfo.shape[0])    #:2344\n",
    "print(len(notfoundlist))     #:12\n"
   ]
  },
  {
   "cell_type": "code",
   "execution_count": null,
   "metadata": {},
   "outputs": [],
   "source": []
  },
  {
   "cell_type": "markdown",
   "metadata": {},
   "source": [
    "# Step 2 :Access Data"
   ]
  },
  {
   "cell_type": "code",
   "execution_count": 166,
   "metadata": {},
   "outputs": [
    {
     "name": "stdout",
     "output_type": "stream",
     "text": [
      "<class 'pandas.core.frame.DataFrame'>\n",
      "RangeIndex: 2344 entries, 0 to 2343\n",
      "Data columns (total 3 columns):\n",
      "tweet_id          2344 non-null int64\n",
      "retweet_count     2344 non-null int64\n",
      "favorite_count    2344 non-null int64\n",
      "dtypes: int64(3)\n",
      "memory usage: 55.0 KB\n"
     ]
    }
   ],
   "source": [
    "tweetinfo.info()"
   ]
  },
  {
   "cell_type": "code",
   "execution_count": 167,
   "metadata": {},
   "outputs": [
    {
     "name": "stdout",
     "output_type": "stream",
     "text": [
      "<class 'pandas.core.frame.DataFrame'>\n",
      "Int64Index: 2171 entries, 0 to 2355\n",
      "Data columns (total 13 columns):\n",
      "tweet_id         2171 non-null object\n",
      "source           2171 non-null object\n",
      "text             2171 non-null object\n",
      "expanded_urls    2171 non-null object\n",
      "name             2171 non-null object\n",
      "url              2171 non-null object\n",
      "rating           2171 non-null float64\n",
      "hour             2171 non-null int64\n",
      "weekday          2171 non-null int64\n",
      "date             2171 non-null int64\n",
      "month            2171 non-null int64\n",
      "year             2171 non-null int64\n",
      "dog_stage        2171 non-null object\n",
      "dtypes: float64(1), int64(5), object(7)\n",
      "memory usage: 237.5+ KB\n"
     ]
    }
   ],
   "source": [
    "tw_copy.info()"
   ]
  },
  {
   "cell_type": "code",
   "execution_count": 168,
   "metadata": {},
   "outputs": [
    {
     "name": "stdout",
     "output_type": "stream",
     "text": [
      "<class 'pandas.core.frame.DataFrame'>\n",
      "Int64Index: 2075 entries, 0 to 2074\n",
      "Data columns (total 7 columns):\n",
      "tweet_id          2075 non-null object\n",
      "jpg_url           2075 non-null object\n",
      "img_num           2075 non-null int64\n",
      "breed             2075 non-null category\n",
      "breed_prob        2075 non-null float64\n",
      "retweet_count     2075 non-null object\n",
      "favorite_count    2075 non-null object\n",
      "dtypes: category(1), float64(1), int64(1), object(4)\n",
      "memory usage: 121.4+ KB\n"
     ]
    }
   ],
   "source": [
    "im_test.info()"
   ]
  },
  {
   "cell_type": "code",
   "execution_count": 169,
   "metadata": {},
   "outputs": [
    {
     "data": {
      "text/html": [
       "<div>\n",
       "<style>\n",
       "    .dataframe thead tr:only-child th {\n",
       "        text-align: right;\n",
       "    }\n",
       "\n",
       "    .dataframe thead th {\n",
       "        text-align: left;\n",
       "    }\n",
       "\n",
       "    .dataframe tbody tr th {\n",
       "        vertical-align: top;\n",
       "    }\n",
       "</style>\n",
       "<table border=\"1\" class=\"dataframe\">\n",
       "  <thead>\n",
       "    <tr style=\"text-align: right;\">\n",
       "      <th></th>\n",
       "      <th>tweet_id</th>\n",
       "      <th>retweet_count</th>\n",
       "      <th>favorite_count</th>\n",
       "    </tr>\n",
       "  </thead>\n",
       "  <tbody>\n",
       "    <tr>\n",
       "      <th>0</th>\n",
       "      <td>892420643555336193</td>\n",
       "      <td>8548</td>\n",
       "      <td>38654</td>\n",
       "    </tr>\n",
       "    <tr>\n",
       "      <th>1</th>\n",
       "      <td>892177421306343426</td>\n",
       "      <td>6285</td>\n",
       "      <td>33127</td>\n",
       "    </tr>\n",
       "    <tr>\n",
       "      <th>2</th>\n",
       "      <td>891815181378084864</td>\n",
       "      <td>4166</td>\n",
       "      <td>24934</td>\n",
       "    </tr>\n",
       "    <tr>\n",
       "      <th>3</th>\n",
       "      <td>891689557279858688</td>\n",
       "      <td>8676</td>\n",
       "      <td>42025</td>\n",
       "    </tr>\n",
       "    <tr>\n",
       "      <th>4</th>\n",
       "      <td>891327558926688256</td>\n",
       "      <td>9434</td>\n",
       "      <td>40183</td>\n",
       "    </tr>\n",
       "  </tbody>\n",
       "</table>\n",
       "</div>"
      ],
      "text/plain": [
       "             tweet_id  retweet_count  favorite_count\n",
       "0  892420643555336193           8548           38654\n",
       "1  892177421306343426           6285           33127\n",
       "2  891815181378084864           4166           24934\n",
       "3  891689557279858688           8676           42025\n",
       "4  891327558926688256           9434           40183"
      ]
     },
     "execution_count": 169,
     "metadata": {},
     "output_type": "execute_result"
    }
   ],
   "source": [
    "tweetinfo.head()"
   ]
  },
  {
   "cell_type": "code",
   "execution_count": 170,
   "metadata": {},
   "outputs": [
    {
     "data": {
      "text/html": [
       "<div>\n",
       "<style>\n",
       "    .dataframe thead tr:only-child th {\n",
       "        text-align: right;\n",
       "    }\n",
       "\n",
       "    .dataframe thead th {\n",
       "        text-align: left;\n",
       "    }\n",
       "\n",
       "    .dataframe tbody tr th {\n",
       "        vertical-align: top;\n",
       "    }\n",
       "</style>\n",
       "<table border=\"1\" class=\"dataframe\">\n",
       "  <thead>\n",
       "    <tr style=\"text-align: right;\">\n",
       "      <th></th>\n",
       "      <th>tweet_id</th>\n",
       "      <th>source</th>\n",
       "      <th>text</th>\n",
       "      <th>expanded_urls</th>\n",
       "      <th>name</th>\n",
       "      <th>url</th>\n",
       "      <th>rating</th>\n",
       "      <th>hour</th>\n",
       "      <th>weekday</th>\n",
       "      <th>date</th>\n",
       "      <th>month</th>\n",
       "      <th>year</th>\n",
       "      <th>dog_stage</th>\n",
       "    </tr>\n",
       "  </thead>\n",
       "  <tbody>\n",
       "    <tr>\n",
       "      <th>0</th>\n",
       "      <td>892420643555336193</td>\n",
       "      <td>&lt;a href=\"http://twitter.com/download/iphone\" r...</td>\n",
       "      <td>This is Phineas. He's a mystical boy. Only eve...</td>\n",
       "      <td>https://twitter.com/dog_rates/status/892420643...</td>\n",
       "      <td>Phineas</td>\n",
       "      <td>https://twitter.com/dog_rates/status/892420643...</td>\n",
       "      <td>13.0</td>\n",
       "      <td>16</td>\n",
       "      <td>1</td>\n",
       "      <td>1</td>\n",
       "      <td>8</td>\n",
       "      <td>2017</td>\n",
       "      <td>None</td>\n",
       "    </tr>\n",
       "    <tr>\n",
       "      <th>1</th>\n",
       "      <td>892177421306343426</td>\n",
       "      <td>&lt;a href=\"http://twitter.com/download/iphone\" r...</td>\n",
       "      <td>This is Tilly. She's just checking pup on you....</td>\n",
       "      <td>https://twitter.com/dog_rates/status/892177421...</td>\n",
       "      <td>Tilly</td>\n",
       "      <td>https://twitter.com/dog_rates/status/892177421...</td>\n",
       "      <td>13.0</td>\n",
       "      <td>0</td>\n",
       "      <td>1</td>\n",
       "      <td>1</td>\n",
       "      <td>8</td>\n",
       "      <td>2017</td>\n",
       "      <td>None</td>\n",
       "    </tr>\n",
       "    <tr>\n",
       "      <th>2</th>\n",
       "      <td>891815181378084864</td>\n",
       "      <td>&lt;a href=\"http://twitter.com/download/iphone\" r...</td>\n",
       "      <td>This is Archie. He is a rare Norwegian Pouncin...</td>\n",
       "      <td>https://twitter.com/dog_rates/status/891815181...</td>\n",
       "      <td>Archie</td>\n",
       "      <td>https://twitter.com/dog_rates/status/891815181...</td>\n",
       "      <td>12.0</td>\n",
       "      <td>0</td>\n",
       "      <td>0</td>\n",
       "      <td>31</td>\n",
       "      <td>7</td>\n",
       "      <td>2017</td>\n",
       "      <td>None</td>\n",
       "    </tr>\n",
       "    <tr>\n",
       "      <th>3</th>\n",
       "      <td>891689557279858688</td>\n",
       "      <td>&lt;a href=\"http://twitter.com/download/iphone\" r...</td>\n",
       "      <td>This is Darla. She commenced a snooze mid meal...</td>\n",
       "      <td>https://twitter.com/dog_rates/status/891689557...</td>\n",
       "      <td>Darla</td>\n",
       "      <td>https://twitter.com/dog_rates/status/891689557...</td>\n",
       "      <td>13.0</td>\n",
       "      <td>15</td>\n",
       "      <td>6</td>\n",
       "      <td>30</td>\n",
       "      <td>7</td>\n",
       "      <td>2017</td>\n",
       "      <td>None</td>\n",
       "    </tr>\n",
       "    <tr>\n",
       "      <th>4</th>\n",
       "      <td>891327558926688256</td>\n",
       "      <td>&lt;a href=\"http://twitter.com/download/iphone\" r...</td>\n",
       "      <td>This is Franklin. He would like you to stop ca...</td>\n",
       "      <td>https://twitter.com/dog_rates/status/891327558...</td>\n",
       "      <td>Franklin</td>\n",
       "      <td>https://twitter.com/dog_rates/status/891327558...</td>\n",
       "      <td>12.0</td>\n",
       "      <td>16</td>\n",
       "      <td>5</td>\n",
       "      <td>29</td>\n",
       "      <td>7</td>\n",
       "      <td>2017</td>\n",
       "      <td>None</td>\n",
       "    </tr>\n",
       "  </tbody>\n",
       "</table>\n",
       "</div>"
      ],
      "text/plain": [
       "             tweet_id                                             source  \\\n",
       "0  892420643555336193  <a href=\"http://twitter.com/download/iphone\" r...   \n",
       "1  892177421306343426  <a href=\"http://twitter.com/download/iphone\" r...   \n",
       "2  891815181378084864  <a href=\"http://twitter.com/download/iphone\" r...   \n",
       "3  891689557279858688  <a href=\"http://twitter.com/download/iphone\" r...   \n",
       "4  891327558926688256  <a href=\"http://twitter.com/download/iphone\" r...   \n",
       "\n",
       "                                                text  \\\n",
       "0  This is Phineas. He's a mystical boy. Only eve...   \n",
       "1  This is Tilly. She's just checking pup on you....   \n",
       "2  This is Archie. He is a rare Norwegian Pouncin...   \n",
       "3  This is Darla. She commenced a snooze mid meal...   \n",
       "4  This is Franklin. He would like you to stop ca...   \n",
       "\n",
       "                                       expanded_urls      name  \\\n",
       "0  https://twitter.com/dog_rates/status/892420643...   Phineas   \n",
       "1  https://twitter.com/dog_rates/status/892177421...     Tilly   \n",
       "2  https://twitter.com/dog_rates/status/891815181...    Archie   \n",
       "3  https://twitter.com/dog_rates/status/891689557...     Darla   \n",
       "4  https://twitter.com/dog_rates/status/891327558...  Franklin   \n",
       "\n",
       "                                                 url  rating  hour  weekday  \\\n",
       "0  https://twitter.com/dog_rates/status/892420643...    13.0    16        1   \n",
       "1  https://twitter.com/dog_rates/status/892177421...    13.0     0        1   \n",
       "2  https://twitter.com/dog_rates/status/891815181...    12.0     0        0   \n",
       "3  https://twitter.com/dog_rates/status/891689557...    13.0    15        6   \n",
       "4  https://twitter.com/dog_rates/status/891327558...    12.0    16        5   \n",
       "\n",
       "   date  month  year dog_stage  \n",
       "0     1      8  2017      None  \n",
       "1     1      8  2017      None  \n",
       "2    31      7  2017      None  \n",
       "3    30      7  2017      None  \n",
       "4    29      7  2017      None  "
      ]
     },
     "execution_count": 170,
     "metadata": {},
     "output_type": "execute_result"
    }
   ],
   "source": [
    "tw_copy.head()"
   ]
  },
  {
   "cell_type": "code",
   "execution_count": 171,
   "metadata": {},
   "outputs": [
    {
     "data": {
      "text/html": [
       "<div>\n",
       "<style>\n",
       "    .dataframe thead tr:only-child th {\n",
       "        text-align: right;\n",
       "    }\n",
       "\n",
       "    .dataframe thead th {\n",
       "        text-align: left;\n",
       "    }\n",
       "\n",
       "    .dataframe tbody tr th {\n",
       "        vertical-align: top;\n",
       "    }\n",
       "</style>\n",
       "<table border=\"1\" class=\"dataframe\">\n",
       "  <thead>\n",
       "    <tr style=\"text-align: right;\">\n",
       "      <th></th>\n",
       "      <th>tweet_id</th>\n",
       "      <th>jpg_url</th>\n",
       "      <th>img_num</th>\n",
       "      <th>breed</th>\n",
       "      <th>breed_prob</th>\n",
       "      <th>retweet_count</th>\n",
       "      <th>favorite_count</th>\n",
       "    </tr>\n",
       "  </thead>\n",
       "  <tbody>\n",
       "    <tr>\n",
       "      <th>0</th>\n",
       "      <td>666020888022790149</td>\n",
       "      <td>https://pbs.twimg.com/media/CT4udn0WwAA0aMy.jpg</td>\n",
       "      <td>1</td>\n",
       "      <td>Welsh_springer_spaniel</td>\n",
       "      <td>0.465074</td>\n",
       "      <td>517</td>\n",
       "      <td>2564</td>\n",
       "    </tr>\n",
       "    <tr>\n",
       "      <th>1</th>\n",
       "      <td>666029285002620928</td>\n",
       "      <td>https://pbs.twimg.com/media/CT42GRgUYAA5iDo.jpg</td>\n",
       "      <td>1</td>\n",
       "      <td>redbone</td>\n",
       "      <td>0.506826</td>\n",
       "      <td>47</td>\n",
       "      <td>130</td>\n",
       "    </tr>\n",
       "    <tr>\n",
       "      <th>2</th>\n",
       "      <td>666033412701032449</td>\n",
       "      <td>https://pbs.twimg.com/media/CT4521TWwAEvMyu.jpg</td>\n",
       "      <td>1</td>\n",
       "      <td>German_shepherd</td>\n",
       "      <td>0.596461</td>\n",
       "      <td>44</td>\n",
       "      <td>125</td>\n",
       "    </tr>\n",
       "    <tr>\n",
       "      <th>3</th>\n",
       "      <td>666044226329800704</td>\n",
       "      <td>https://pbs.twimg.com/media/CT5Dr8HUEAA-lEu.jpg</td>\n",
       "      <td>1</td>\n",
       "      <td>Rhodesian_ridgeback</td>\n",
       "      <td>0.408143</td>\n",
       "      <td>141</td>\n",
       "      <td>299</td>\n",
       "    </tr>\n",
       "    <tr>\n",
       "      <th>4</th>\n",
       "      <td>666049248165822465</td>\n",
       "      <td>https://pbs.twimg.com/media/CT5IQmsXIAAKY4A.jpg</td>\n",
       "      <td>1</td>\n",
       "      <td>miniature_pinscher</td>\n",
       "      <td>0.560311</td>\n",
       "      <td>41</td>\n",
       "      <td>109</td>\n",
       "    </tr>\n",
       "  </tbody>\n",
       "</table>\n",
       "</div>"
      ],
      "text/plain": [
       "             tweet_id                                          jpg_url  \\\n",
       "0  666020888022790149  https://pbs.twimg.com/media/CT4udn0WwAA0aMy.jpg   \n",
       "1  666029285002620928  https://pbs.twimg.com/media/CT42GRgUYAA5iDo.jpg   \n",
       "2  666033412701032449  https://pbs.twimg.com/media/CT4521TWwAEvMyu.jpg   \n",
       "3  666044226329800704  https://pbs.twimg.com/media/CT5Dr8HUEAA-lEu.jpg   \n",
       "4  666049248165822465  https://pbs.twimg.com/media/CT5IQmsXIAAKY4A.jpg   \n",
       "\n",
       "   img_num                   breed  breed_prob retweet_count favorite_count  \n",
       "0        1  Welsh_springer_spaniel    0.465074           517           2564  \n",
       "1        1                 redbone    0.506826            47            130  \n",
       "2        1         German_shepherd    0.596461            44            125  \n",
       "3        1     Rhodesian_ridgeback    0.408143           141            299  \n",
       "4        1      miniature_pinscher    0.560311            41            109  "
      ]
     },
     "execution_count": 171,
     "metadata": {},
     "output_type": "execute_result"
    }
   ],
   "source": [
    "im_test.head()"
   ]
  },
  {
   "cell_type": "markdown",
   "metadata": {},
   "source": [
    "# Step 3 :Clean Data# "
   ]
  },
  {
   "cell_type": "markdown",
   "metadata": {},
   "source": [
    "#Data Cleansing Process\n",
    "\n",
    "Here we will be taking care of below Issues:\n",
    "\n",
    "Quality Issues:\n",
    "1.5.Remove All Retweets (Since we needs only Original Tweets)\n",
    "2.Remove record whole url don't exist or Invalid (Tweet Deleted)\n",
    "3.Ignore records having Out of bound ratings like: (1776/10 , 960/0),\n",
    "4.Rationalize all rating Records out of 10\n",
    "5.Segregated URL, Keep most appropriate One\t\n",
    "6.Replace all Faulty Dog names to 'None'\n",
    "7.Changing Data Type of 'breed' to Category\n",
    "8.Changing type of retweet_count,favorite_count to int\n",
    "\n",
    "Tidiness Issues:\n",
    "1.Segregate Hour,Day,Date,Month,Year from DateTime column\n",
    "2.Multiple Dog stages into 1 'Dog Stage'\n",
    "3.Defining 'breed' , 'breed_probablity' columns considering p1_conf,p2_conf,p3_conf to remove excess columns"
   ]
  },
  {
   "cell_type": "markdown",
   "metadata": {},
   "source": [
    "#### Handling Quality Issues"
   ]
  },
  {
   "cell_type": "code",
   "execution_count": 9,
   "metadata": {},
   "outputs": [],
   "source": [
    "#Defining 'breed' , 'breed_probablity' columns considering p1_conf,p2_conf,p3_conf\n",
    "for i in range(im_test.shape[0]):\n",
    "#    print(i)\n",
    "    if im_test.loc[i,'p1_dog']==True:\n",
    "        im_test.loc[i,'breed']=im_test.loc[i,'p1']    \n",
    "        im_test.loc[i,'breed_prob']=im_test.loc[i,'p1_conf'] \n",
    "    elif im_test.loc[i,'p2_dog']==True:\n",
    "        im_test.loc[i,'breed']=im_test.loc[i,'p2']    \n",
    "        im_test.loc[i,'breed_prob']=im_test.loc[i,'p2_conf']\n",
    "    elif im_test.loc[i,'p3_dog']==True:\n",
    "        im_test.loc[i,'breed']=im_test.loc[i,'p3']    \n",
    "        im_test.loc[i,'breed_prob']=im_test.loc[i,'p3_conf']\n",
    "    else:\n",
    "        im_test.loc[i,'breed']='No Dog'    \n",
    "        im_test.loc[i,'breed_prob']=0"
   ]
  },
  {
   "cell_type": "code",
   "execution_count": 11,
   "metadata": {},
   "outputs": [],
   "source": [
    "#Modifying DataFrame: im_test (Contain Only Dog's data) \n",
    "#Removing Extra Columns\n",
    "\n",
    "im_test=im_test[['tweet_id','jpg_url','img_num','breed','breed_prob']]\n",
    "#dim_final=dim_final[dim_final.breed != 'No Dog'].reset_index()"
   ]
  },
  {
   "cell_type": "code",
   "execution_count": 10,
   "metadata": {},
   "outputs": [
    {
     "name": "stdout",
     "output_type": "stream",
     "text": [
      "             tweet_id                                          jpg_url  \\\n",
      "0  666020888022790149  https://pbs.twimg.com/media/CT4udn0WwAA0aMy.jpg   \n",
      "1  666029285002620928  https://pbs.twimg.com/media/CT42GRgUYAA5iDo.jpg   \n",
      "2  666033412701032449  https://pbs.twimg.com/media/CT4521TWwAEvMyu.jpg   \n",
      "3  666044226329800704  https://pbs.twimg.com/media/CT5Dr8HUEAA-lEu.jpg   \n",
      "4  666049248165822465  https://pbs.twimg.com/media/CT5IQmsXIAAKY4A.jpg   \n",
      "\n",
      "   img_num                      p1   p1_conf  p1_dog                  p2  \\\n",
      "0        1  Welsh_springer_spaniel  0.465074    True              collie   \n",
      "1        1                 redbone  0.506826    True  miniature_pinscher   \n",
      "2        1         German_shepherd  0.596461    True            malinois   \n",
      "3        1     Rhodesian_ridgeback  0.408143    True             redbone   \n",
      "4        1      miniature_pinscher  0.560311    True          Rottweiler   \n",
      "\n",
      "    p2_conf  p2_dog                   p3   p3_conf  p3_dog  \\\n",
      "0  0.156665    True    Shetland_sheepdog  0.061428    True   \n",
      "1  0.074192    True  Rhodesian_ridgeback  0.072010    True   \n",
      "2  0.138584    True           bloodhound  0.116197    True   \n",
      "3  0.360687    True   miniature_pinscher  0.222752    True   \n",
      "4  0.243682    True             Doberman  0.154629    True   \n",
      "\n",
      "                    breed  breed_prob  \n",
      "0  Welsh_springer_spaniel    0.465074  \n",
      "1                 redbone    0.506826  \n",
      "2         German_shepherd    0.596461  \n",
      "3     Rhodesian_ridgeback    0.408143  \n",
      "4      miniature_pinscher    0.560311  \n"
     ]
    }
   ],
   "source": [
    "print(im_test.head())"
   ]
  },
  {
   "cell_type": "code",
   "execution_count": 13,
   "metadata": {},
   "outputs": [
    {
     "name": "stdout",
     "output_type": "stream",
     "text": [
      "No Dog                         324\n",
      "golden_retriever               173\n",
      "Labrador_retriever             113\n",
      "Pembroke                        96\n",
      "Chihuahua                       95\n",
      "pug                             65\n",
      "toy_poodle                      52\n",
      "chow                            51\n",
      "Samoyed                         46\n",
      "Pomeranian                      42\n",
      "malamute                        34\n",
      "cocker_spaniel                  34\n",
      "French_bulldog                  32\n",
      "Chesapeake_Bay_retriever        31\n",
      "miniature_pinscher              26\n",
      "Cardigan                        23\n",
      "Eskimo_dog                      22\n",
      "Staffordshire_bullterrier       22\n",
      "German_shepherd                 21\n",
      "beagle                          21\n",
      "Siberian_husky                  20\n",
      "Shih-Tzu                        20\n",
      "Rottweiler                      19\n",
      "kuvasz                          19\n",
      "Lakeland_terrier                19\n",
      "Shetland_sheepdog               19\n",
      "Maltese_dog                     19\n",
      "Italian_greyhound               17\n",
      "basset                          17\n",
      "West_Highland_white_terrier     16\n",
      "                              ... \n",
      "Rhodesian_ridgeback              4\n",
      "Saluki                           4\n",
      "giant_schnauzer                  4\n",
      "Scottish_deerhound               4\n",
      "Tibetan_terrier                  4\n",
      "Weimaraner                       4\n",
      "Welsh_springer_spaniel           4\n",
      "Irish_water_spaniel              3\n",
      "toy_terrier                      3\n",
      "komondor                         3\n",
      "curly-coated_retriever           3\n",
      "Brabancon_griffon                3\n",
      "cairn                            3\n",
      "briard                           3\n",
      "Leonberg                         3\n",
      "Greater_Swiss_Mountain_dog       3\n",
      "black-and-tan_coonhound          2\n",
      "Sussex_spaniel                   2\n",
      "groenendael                      2\n",
      "Australian_terrier               2\n",
      "Appenzeller                      2\n",
      "wire-haired_fox_terrier          2\n",
      "Irish_wolfhound                  1\n",
      "clumber                          1\n",
      "EntleBucher                      1\n",
      "Bouvier_des_Flandres             1\n",
      "Scotch_terrier                   1\n",
      "Japanese_spaniel                 1\n",
      "silky_terrier                    1\n",
      "standard_schnauzer               1\n",
      "Name: breed, Length: 114, dtype: int64\n",
      "0.0 0.999956\n"
     ]
    }
   ],
   "source": [
    "#Taking 97.5% confidenece Interval for dog probability (cutting off 2.5 % negative tail)\n",
    "#changing Data Type of 'breed' to Category\n",
    "\n",
    "Lower_limit=np.percentile(im_test.breed_prob, 2.5)\n",
    "Upper_limit=np.percentile(im_test.breed_prob, 100)\n",
    "\n",
    "im_test=im_test[im_test.breed_prob>=Lower_limit]\n",
    "im_test.breed=im_test.breed.astype('category')\n",
    "\n",
    "print(im_test.breed.value_counts())\n",
    "print(Lower_limit,Upper_limit)"
   ]
  },
  {
   "cell_type": "code",
   "execution_count": 14,
   "metadata": {},
   "outputs": [
    {
     "name": "stdout",
     "output_type": "stream",
     "text": [
      "             tweet_id                                          jpg_url  \\\n",
      "0  666020888022790149  https://pbs.twimg.com/media/CT4udn0WwAA0aMy.jpg   \n",
      "1  666029285002620928  https://pbs.twimg.com/media/CT42GRgUYAA5iDo.jpg   \n",
      "\n",
      "   img_num                   breed  breed_prob retweet_count favorite_count  \n",
      "0        1  Welsh_springer_spaniel    0.465074           517           2564  \n",
      "1        1                 redbone    0.506826            47            130  \n"
     ]
    }
   ],
   "source": [
    "#Merging im_test,tweetinfo into im_test\n",
    "#Changing type of retweet_count,favorite_count to int\n",
    "#Updating NaN retweet_count,favorite_count to '0' (indicating not found)\n",
    "\n",
    "im_test=pd.merge(im_test,tweetinfo,on=['tweet_id'],how='left')\n",
    "\n",
    "im_test.retweet_count=im_test.retweet_count.astype(str).str[:-2]\n",
    "im_test.retweet_count=im_test.retweet_count.replace('n',0)\n",
    "im_test.favorite_count=im_test.favorite_count.astype(str).str[:-2]\n",
    "im_test.favorite_count=im_test.favorite_count.replace('n',0)\n",
    "\n",
    "\n",
    "print(im_test.head(2))\n"
   ]
  },
  {
   "cell_type": "code",
   "execution_count": 15,
   "metadata": {},
   "outputs": [
    {
     "name": "stdout",
     "output_type": "stream",
     "text": [
      "2356\n",
      "2175\n"
     ]
    }
   ],
   "source": [
    "# Remove All Retweets (Since we needs only Original Tweets)\n",
    "print(tw_copy.shape[0])\n",
    "tw_copy=tw_copy[tw_copy.retweeted_status_id.isnull()]\n",
    "print(tw_copy.shape[0])"
   ]
  },
  {
   "cell_type": "code",
   "execution_count": 16,
   "metadata": {},
   "outputs": [],
   "source": [
    "# Segregated URL, Keep most appropriate One\n",
    "\n",
    "tw_copy.expanded_urls=tw_copy.expanded_urls.fillna(\"No URL\")\n",
    "\n",
    "def urlextract(dfurl):\n",
    "    dfurl['url']=dfurl['expanded_urls'].split(',')[len(dfurl['expanded_urls'].split(','))-1]\n",
    "    return dfurl['url']\n",
    "\n",
    "tw_copy['url']=tw_copy.apply(urlextract,axis=1)\n",
    "\n"
   ]
  },
  {
   "cell_type": "code",
   "execution_count": 17,
   "metadata": {},
   "outputs": [
    {
     "name": "stdout",
     "output_type": "stream",
     "text": [
      "             tweet_id  in_reply_to_status_id  in_reply_to_user_id  \\\n",
      "0  892420643555336193                    NaN                  NaN   \n",
      "1  892177421306343426                    NaN                  NaN   \n",
      "2  891815181378084864                    NaN                  NaN   \n",
      "3  891689557279858688                    NaN                  NaN   \n",
      "4  891327558926688256                    NaN                  NaN   \n",
      "\n",
      "                   timestamp  \\\n",
      "0  2017-08-01 16:23:56 +0000   \n",
      "1  2017-08-01 00:17:27 +0000   \n",
      "2  2017-07-31 00:18:03 +0000   \n",
      "3  2017-07-30 15:58:51 +0000   \n",
      "4  2017-07-29 16:00:24 +0000   \n",
      "\n",
      "                                              source  \\\n",
      "0  <a href=\"http://twitter.com/download/iphone\" r...   \n",
      "1  <a href=\"http://twitter.com/download/iphone\" r...   \n",
      "2  <a href=\"http://twitter.com/download/iphone\" r...   \n",
      "3  <a href=\"http://twitter.com/download/iphone\" r...   \n",
      "4  <a href=\"http://twitter.com/download/iphone\" r...   \n",
      "\n",
      "                                                text  \\\n",
      "0  This is Phineas. He's a mystical boy. Only eve...   \n",
      "1  This is Tilly. She's just checking pup on you....   \n",
      "2  This is Archie. He is a rare Norwegian Pouncin...   \n",
      "3  This is Darla. She commenced a snooze mid meal...   \n",
      "4  This is Franklin. He would like you to stop ca...   \n",
      "\n",
      "                                       expanded_urls      name doggo floofer  \\\n",
      "0  https://twitter.com/dog_rates/status/892420643...   Phineas  None    None   \n",
      "1  https://twitter.com/dog_rates/status/892177421...     Tilly  None    None   \n",
      "2  https://twitter.com/dog_rates/status/891815181...    Archie  None    None   \n",
      "3  https://twitter.com/dog_rates/status/891689557...     Darla  None    None   \n",
      "4  https://twitter.com/dog_rates/status/891327558...  Franklin  None    None   \n",
      "\n",
      "  pupper puppo                                                url  rating  \n",
      "0   None  None  https://twitter.com/dog_rates/status/892420643...    13.0  \n",
      "1   None  None  https://twitter.com/dog_rates/status/892177421...    13.0  \n",
      "2   None  None  https://twitter.com/dog_rates/status/891815181...    12.0  \n",
      "3   None  None  https://twitter.com/dog_rates/status/891689557...    13.0  \n",
      "4   None  None  https://twitter.com/dog_rates/status/891327558...    12.0  \n"
     ]
    }
   ],
   "source": [
    "#Rationalize all rating Records out of 10 \n",
    "#Drop Numerator and Denominator retweeted_status_user_id,retweeted_status_timestamp columns\n",
    "\n",
    "tw_copy['rating']=(tw_copy['rating_numerator']/tw_copy['rating_denominator'])*10\n",
    "tw_copy=tw_copy.drop(['rating_numerator','rating_denominator','retweeted_status_user_id','retweeted_status_id','retweeted_status_timestamp'],axis=1)\n",
    "\n",
    "print(tw_copy.head())"
   ]
  },
  {
   "cell_type": "code",
   "execution_count": 18,
   "metadata": {},
   "outputs": [],
   "source": [
    "#Records Cleasing as per manual observations\n",
    "#1.Rating for tweet_id:835246439529840640 should be 13/10 (Interpretted from Tweet's Text)\n",
    "#2.Rating for tweet:id:835152434251116546 should be 11/10 (Interpretted from Tweet's Image)\n",
    "#3.Rating for tweet: 786709082849828864: Valid Rating>9.75/10\n",
    "#4.Remove record with tweet_id: 810984652412424192 (Invalid interpretation of dog rating)\n",
    "#5.Remove record with tweet_id: 855862651834028034,855860136149123072,838150277551247360 (Improper Ratings ratio, No URLs, Invalid Text)\n",
    "\n",
    "tw_copy.tweet_id=tw_copy.tweet_id.astype(str)\n",
    "im_test.tweet_id=im_test.tweet_id.astype(str)\n",
    "\n",
    "#print(tw_copy[tw_copy.tweet_id=='835246439529840640'])\n",
    "#print(tw_copy[tw_copy.tweet_id=='835152434251116546'])\n",
    "#print(tw_copy[tw_copy.tweet_id=='855862651834028034'])\n",
    "#print(tw_copy[tw_copy.tweet_id=='838150277551247360'])\n",
    "\n",
    "\n",
    "tw_copy.loc[tw_copy.tweet_id == '835246439529840640','rating']=13\n",
    "tw_copy.loc[tw_copy.tweet_id == '835152434251116546','rating']=11\n",
    "tw_copy.loc[tw_copy.tweet_id == '786709082849828864','rating']=9.75\n",
    "tw_copy=tw_copy[~tw_copy.tweet_id.isin(['855862651834028034','855860136149123072','838150277551247360','810984652412424192'])]\n",
    "\n",
    "#print(tw_copy[tw_copy.tweet_id=='835246439529840640'])\n",
    "#print(tw_copy[tw_copy.tweet_id=='835152434251116546'])\n",
    "#print(tw_copy[tw_copy.tweet_id=='855862651834028034'])\n",
    "#print(tw_copy[tw_copy.tweet_id=='838150277551247360'])"
   ]
  },
  {
   "cell_type": "code",
   "execution_count": 19,
   "metadata": {},
   "outputs": [
    {
     "name": "stdout",
     "output_type": "stream",
     "text": [
      "None        764\n",
      "Charlie      11\n",
      "Lucy         11\n",
      "Cooper       10\n",
      "Oliver       10\n",
      "Penny         9\n",
      "Tucker        9\n",
      "Winston       8\n",
      "Lola          8\n",
      "Sadie         8\n",
      "Toby          7\n",
      "Daisy         7\n",
      "Bella         6\n",
      "Stanley       6\n",
      "Bailey        6\n",
      "Bo            6\n",
      "Oscar         6\n",
      "Koda          6\n",
      "Jax           6\n",
      "Scout         5\n",
      "Bentley       5\n",
      "Buddy         5\n",
      "Dave          5\n",
      "Rusty         5\n",
      "Milo          5\n",
      "Chester       5\n",
      "Leo           5\n",
      "Louis         5\n",
      "Bear          4\n",
      "Gus           4\n",
      "           ... \n",
      "Stella        1\n",
      "Crimson       1\n",
      "Mimosa        1\n",
      "Mollie        1\n",
      "Al            1\n",
      "Lacy          1\n",
      "Kyro          1\n",
      "Dido          1\n",
      "Frönq         1\n",
      "Skittle       1\n",
      "Dylan         1\n",
      "Betty         1\n",
      "Clybe         1\n",
      "Ebby          1\n",
      "Tango         1\n",
      "Fido          1\n",
      "Butter        1\n",
      "Maisey        1\n",
      "Sundance      1\n",
      "Noah          1\n",
      "Fynn          1\n",
      "Herb          1\n",
      "Jockson       1\n",
      "Gustav        1\n",
      "Stubert       1\n",
      "Cilantro      1\n",
      "Tito          1\n",
      "Sora          1\n",
      "Batdog        1\n",
      "Lupe          1\n",
      "Name: name, Length: 941, dtype: int64\n"
     ]
    }
   ],
   "source": [
    "#Replace all Faulty Dog names to 'None'\n",
    "\n",
    "invalid_names=['a','all','an','by','his','not','O','officially','old','one','quite','such','the','this','unacceptable']\n",
    "\n",
    "for invalid in invalid_names:\n",
    "    tw_copy.loc[tw_copy.name == invalid,'name']='None'    \n",
    "print(tw_copy.name.value_counts())"
   ]
  },
  {
   "cell_type": "code",
   "execution_count": 20,
   "metadata": {},
   "outputs": [],
   "source": [
    "#Date Time Column Type conversion to DataTime\n",
    "tw_copy.timestamp = pd.to_datetime(tw_copy.timestamp)"
   ]
  },
  {
   "cell_type": "code",
   "execution_count": 21,
   "metadata": {},
   "outputs": [
    {
     "name": "stdout",
     "output_type": "stream",
     "text": [
      "             tweet_id  in_reply_to_status_id  in_reply_to_user_id  \\\n",
      "0  892420643555336193                    NaN                  NaN   \n",
      "1  892177421306343426                    NaN                  NaN   \n",
      "\n",
      "            timestamp                                             source  \\\n",
      "0 2017-08-01 16:23:56  <a href=\"http://twitter.com/download/iphone\" r...   \n",
      "1 2017-08-01 00:17:27  <a href=\"http://twitter.com/download/iphone\" r...   \n",
      "\n",
      "                                                text  \\\n",
      "0  This is Phineas. He's a mystical boy. Only eve...   \n",
      "1  This is Tilly. She's just checking pup on you....   \n",
      "\n",
      "                                       expanded_urls     name doggo floofer  \\\n",
      "0  https://twitter.com/dog_rates/status/892420643...  Phineas  None    None   \n",
      "1  https://twitter.com/dog_rates/status/892177421...    Tilly  None    None   \n",
      "\n",
      "  pupper puppo                                                url  rating  \\\n",
      "0   None  None  https://twitter.com/dog_rates/status/892420643...    13.0   \n",
      "1   None  None  https://twitter.com/dog_rates/status/892177421...    13.0   \n",
      "\n",
      "   hour  weekday  date  month  year  \n",
      "0    16        1     1      8  2017  \n",
      "1     0        1     1      8  2017  \n"
     ]
    }
   ],
   "source": [
    "#Segregate Hour,Day,Date,Month,Year from DateTime column\n",
    "tw_copy['hour']=tw_copy['timestamp'].dt.hour.astype(int)\n",
    "tw_copy['weekday']=tw_copy['timestamp'].dt.dayofweek.astype(int)\n",
    "tw_copy['date']=tw_copy['timestamp'].dt.day.astype(int)\n",
    "tw_copy['month']=tw_copy['timestamp'].dt.month.astype(int)\n",
    "tw_copy['year']=tw_copy['timestamp'].dt.year.astype(int)\n",
    "print(tw_copy.head(2))"
   ]
  },
  {
   "cell_type": "code",
   "execution_count": 22,
   "metadata": {},
   "outputs": [
    {
     "name": "stdout",
     "output_type": "stream",
     "text": [
      "None             1827\n",
      "pupper            224\n",
      "doggo              75\n",
      "puppo              24\n",
      "doggo,pupper       10\n",
      "floofer             9\n",
      "doggo,puppo         1\n",
      "doggo,floofer       1\n",
      "Name: dog_stage, dtype: int64\n"
     ]
    }
   ],
   "source": [
    "#Multiple Dog stages into 1 'Dog Stages'\n",
    "tw_copy['dog_stage'] = 'None'\n",
    "\n",
    "def dogstagecon(dog):\n",
    "    stage=[]\n",
    "    if dog.doggo=='doggo':\n",
    "        stage.append('doggo')\n",
    "    if dog.floofer=='floofer':\n",
    "        stage.append('floofer')\n",
    "    if dog.pupper=='pupper':\n",
    "        stage.append('pupper')\n",
    "    if dog.puppo=='puppo':\n",
    "        stage.append('puppo')\n",
    "    if len(stage)<1:\n",
    "        stage.append('None')\n",
    "    dog['dog_stage']=','.join(stage)\n",
    "    return dog\n",
    "            \n",
    "tw_copy=tw_copy.apply(dogstagecon,axis=1)\n",
    "\n",
    "tw_copy=tw_copy.drop(['doggo','floofer','pupper','puppo'],axis=1)\n",
    "\n",
    "print(tw_copy.dog_stage.value_counts())"
   ]
  },
  {
   "cell_type": "code",
   "execution_count": 25,
   "metadata": {},
   "outputs": [],
   "source": [
    "# Drop all column which are not needed\n",
    "# Count number of Replied Tweets\n",
    "replied_tweet_count=tw_copy.in_reply_to_status_id.shape[0]-sum(tw_copy.in_reply_to_status_id.isnull())\n",
    "tw_copy=tw_copy.drop(['timestamp','in_reply_to_status_id','in_reply_to_user_id'],axis=1)"
   ]
  },
  {
   "cell_type": "code",
   "execution_count": 26,
   "metadata": {
    "scrolled": true
   },
   "outputs": [
    {
     "name": "stdout",
     "output_type": "stream",
     "text": [
      "75\n",
      "              tweet_id                                             source  \\\n",
      "0   892420643555336193  <a href=\"http://twitter.com/download/iphone\" r...   \n",
      "1   892177421306343426  <a href=\"http://twitter.com/download/iphone\" r...   \n",
      "2   891815181378084864  <a href=\"http://twitter.com/download/iphone\" r...   \n",
      "3   891689557279858688  <a href=\"http://twitter.com/download/iphone\" r...   \n",
      "4   891327558926688256  <a href=\"http://twitter.com/download/iphone\" r...   \n",
      "5   891087950875897856  <a href=\"http://twitter.com/download/iphone\" r...   \n",
      "6   890971913173991426  <a href=\"http://twitter.com/download/iphone\" r...   \n",
      "7   890729181411237888  <a href=\"http://twitter.com/download/iphone\" r...   \n",
      "8   890609185150312448  <a href=\"http://twitter.com/download/iphone\" r...   \n",
      "9   890240255349198849  <a href=\"http://twitter.com/download/iphone\" r...   \n",
      "10  890006608113172480  <a href=\"http://twitter.com/download/iphone\" r...   \n",
      "11  889880896479866881  <a href=\"http://twitter.com/download/iphone\" r...   \n",
      "12  889665388333682689  <a href=\"http://twitter.com/download/iphone\" r...   \n",
      "13  889638837579907072  <a href=\"http://twitter.com/download/iphone\" r...   \n",
      "14  889531135344209921  <a href=\"http://twitter.com/download/iphone\" r...   \n",
      "15  889278841981685760  <a href=\"http://twitter.com/download/iphone\" r...   \n",
      "16  888917238123831296  <a href=\"http://twitter.com/download/iphone\" r...   \n",
      "17  888804989199671297  <a href=\"http://twitter.com/download/iphone\" r...   \n",
      "18  888554962724278272  <a href=\"http://twitter.com/download/iphone\" r...   \n",
      "20  888078434458587136  <a href=\"http://twitter.com/download/iphone\" r...   \n",
      "21  887705289381826560  <a href=\"http://twitter.com/download/iphone\" r...   \n",
      "22  887517139158093824  <a href=\"http://twitter.com/download/iphone\" r...   \n",
      "23  887473957103951883  <a href=\"http://twitter.com/download/iphone\" r...   \n",
      "24  887343217045368832  <a href=\"http://twitter.com/download/iphone\" r...   \n",
      "25  887101392804085760  <a href=\"http://twitter.com/download/iphone\" r...   \n",
      "26  886983233522544640  <a href=\"http://twitter.com/download/iphone\" r...   \n",
      "27  886736880519319552  <a href=\"http://twitter.com/download/iphone\" r...   \n",
      "28  886680336477933568  <a href=\"http://twitter.com/download/iphone\" r...   \n",
      "29  886366144734445568  <a href=\"http://twitter.com/download/iphone\" r...   \n",
      "30  886267009285017600  <a href=\"http://twitter.com/download/iphone\" r...   \n",
      "31  886258384151887873  <a href=\"http://twitter.com/download/iphone\" r...   \n",
      "33  885984800019947520  <a href=\"http://twitter.com/download/iphone\" r...   \n",
      "\n",
      "                                                 text  \\\n",
      "0   This is Phineas. He's a mystical boy. Only eve...   \n",
      "1   This is Tilly. She's just checking pup on you....   \n",
      "2   This is Archie. He is a rare Norwegian Pouncin...   \n",
      "3   This is Darla. She commenced a snooze mid meal...   \n",
      "4   This is Franklin. He would like you to stop ca...   \n",
      "5   Here we have a majestic great white breaching ...   \n",
      "6   Meet Jax. He enjoys ice cream so much he gets ...   \n",
      "7   When you watch your owner call another dog a g...   \n",
      "8   This is Zoey. She doesn't want to be one of th...   \n",
      "9   This is Cassie. She is a college pup. Studying...   \n",
      "10  This is Koda. He is a South Australian decksha...   \n",
      "11  This is Bruno. He is a service shark. Only get...   \n",
      "12  Here's a puppo that seems to be on the fence a...   \n",
      "13  This is Ted. He does his best. Sometimes that'...   \n",
      "14  This is Stuart. He's sporting his favorite fan...   \n",
      "15  This is Oliver. You're witnessing one of his m...   \n",
      "16  This is Jim. He found a fren. Taught him how t...   \n",
      "17  This is Zeke. He has a new stick. Very proud o...   \n",
      "18  This is Ralphus. He's powering up. Attempting ...   \n",
      "20  This is Gerald. He was just told he didn't get...   \n",
      "21  This is Jeffrey. He has a monopoly on the pool...   \n",
      "22  I've yet to rate a Venezuelan Hover Wiener. Th...   \n",
      "23  This is Canela. She attempted some fancy porch...   \n",
      "24  You may not have known you needed to see this ...   \n",
      "25  This... is a Jubilant Antarctic House Bear. We...   \n",
      "26  This is Maya. She's very shy. Rarely leaves he...   \n",
      "27  This is Mingus. He's a wonderful father to his...   \n",
      "28  This is Derek. He's late for a dog meeting. 13...   \n",
      "29  This is Roscoe. Another pupper fallen victim t...   \n",
      "30  @NonWhiteHat @MayhewMayhem omg hello tanner yo...   \n",
      "31  This is Waffles. His doggles are pupside down....   \n",
      "33  Viewer discretion advised. This is Jimbo. He w...   \n",
      "\n",
      "                                        expanded_urls      name  \\\n",
      "0   https://twitter.com/dog_rates/status/892420643...   Phineas   \n",
      "1   https://twitter.com/dog_rates/status/892177421...     Tilly   \n",
      "2   https://twitter.com/dog_rates/status/891815181...    Archie   \n",
      "3   https://twitter.com/dog_rates/status/891689557...     Darla   \n",
      "4   https://twitter.com/dog_rates/status/891327558...  Franklin   \n",
      "5   https://twitter.com/dog_rates/status/891087950...      None   \n",
      "6   https://gofundme.com/ydvmve-surgery-for-jax,ht...       Jax   \n",
      "7   https://twitter.com/dog_rates/status/890729181...      None   \n",
      "8   https://twitter.com/dog_rates/status/890609185...      Zoey   \n",
      "9   https://twitter.com/dog_rates/status/890240255...    Cassie   \n",
      "10  https://twitter.com/dog_rates/status/890006608...      Koda   \n",
      "11  https://twitter.com/dog_rates/status/889880896...     Bruno   \n",
      "12  https://twitter.com/dog_rates/status/889665388...      None   \n",
      "13  https://twitter.com/dog_rates/status/889638837...       Ted   \n",
      "14  https://twitter.com/dog_rates/status/889531135...    Stuart   \n",
      "15  https://twitter.com/dog_rates/status/889278841...    Oliver   \n",
      "16  https://twitter.com/dog_rates/status/888917238...       Jim   \n",
      "17  https://twitter.com/dog_rates/status/888804989...      Zeke   \n",
      "18  https://twitter.com/dog_rates/status/888554962...   Ralphus   \n",
      "20  https://twitter.com/dog_rates/status/888078434...    Gerald   \n",
      "21  https://twitter.com/dog_rates/status/887705289...   Jeffrey   \n",
      "22  https://twitter.com/dog_rates/status/887517139...      None   \n",
      "23  https://twitter.com/dog_rates/status/887473957...    Canela   \n",
      "24  https://twitter.com/dog_rates/status/887343217...      None   \n",
      "25  https://twitter.com/dog_rates/status/887101392...      None   \n",
      "26  https://twitter.com/dog_rates/status/886983233...      Maya   \n",
      "27  https://www.gofundme.com/mingusneedsus,https:/...    Mingus   \n",
      "28  https://twitter.com/dog_rates/status/886680336...     Derek   \n",
      "29  https://twitter.com/dog_rates/status/886366144...    Roscoe   \n",
      "30                                             No URL      None   \n",
      "31  https://twitter.com/dog_rates/status/886258384...   Waffles   \n",
      "33  https://twitter.com/dog_rates/status/885984800...     Jimbo   \n",
      "\n",
      "                                                  url  rating  hour  weekday  \\\n",
      "0   https://twitter.com/dog_rates/status/892420643...    13.0    16        1   \n",
      "1   https://twitter.com/dog_rates/status/892177421...    13.0     0        1   \n",
      "2   https://twitter.com/dog_rates/status/891815181...    12.0     0        0   \n",
      "3   https://twitter.com/dog_rates/status/891689557...    13.0    15        6   \n",
      "4   https://twitter.com/dog_rates/status/891327558...    12.0    16        5   \n",
      "5   https://twitter.com/dog_rates/status/891087950...    13.0     0        5   \n",
      "6   https://twitter.com/dog_rates/status/890971913...    13.0    16        4   \n",
      "7   https://twitter.com/dog_rates/status/890729181...    13.0     0        4   \n",
      "8   https://twitter.com/dog_rates/status/890609185...    13.0    16        3   \n",
      "9   https://twitter.com/dog_rates/status/890240255...    14.0    15        2   \n",
      "10  https://twitter.com/dog_rates/status/890006608...    13.0     0        2   \n",
      "11  https://twitter.com/dog_rates/status/889880896...    13.0    16        1   \n",
      "12  https://twitter.com/dog_rates/status/889665388...    13.0     1        1   \n",
      "13  https://twitter.com/dog_rates/status/889638837...    12.0     0        1   \n",
      "14  https://twitter.com/dog_rates/status/889531135...    13.0    17        0   \n",
      "15  https://twitter.com/dog_rates/status/889278841...    13.0     0        0   \n",
      "16  https://twitter.com/dog_rates/status/888917238...    12.0     0        6   \n",
      "17  https://twitter.com/dog_rates/status/888804989...    13.0    16        5   \n",
      "18  https://twitter.com/dog_rates/status/888554962...    13.0     0        5   \n",
      "20  https://twitter.com/dog_rates/status/888078434...    12.0    16        3   \n",
      "21  https://twitter.com/dog_rates/status/887705289...    13.0    16        2   \n",
      "22  https://twitter.com/dog_rates/status/887517139...    14.0     3        2   \n",
      "23  https://twitter.com/dog_rates/status/887473957...    13.0     0        2   \n",
      "24  https://twitter.com/dog_rates/status/887343217...    13.0    16        1   \n",
      "25  https://twitter.com/dog_rates/status/887101392...    12.0     0        1   \n",
      "26  https://twitter.com/dog_rates/status/886983233...    13.0    16        0   \n",
      "27  https://twitter.com/dog_rates/status/886736880...    13.0    23        6   \n",
      "28  https://twitter.com/dog_rates/status/886680336...    13.0    20        6   \n",
      "29  https://twitter.com/dog_rates/status/886366144...    12.0    23        5   \n",
      "30                                             No URL    12.0    16        5   \n",
      "31  https://twitter.com/dog_rates/status/886258384...    13.0    16        5   \n",
      "33  https://twitter.com/dog_rates/status/885984800...    12.0    22        4   \n",
      "\n",
      "    date  month  year dog_stage  \n",
      "0      1      8  2017      None  \n",
      "1      1      8  2017      None  \n",
      "2     31      7  2017      None  \n",
      "3     30      7  2017      None  \n",
      "4     29      7  2017      None  \n",
      "5     29      7  2017      None  \n",
      "6     28      7  2017      None  \n",
      "7     28      7  2017      None  \n",
      "8     27      7  2017      None  \n",
      "9     26      7  2017     doggo  \n",
      "10    26      7  2017      None  \n",
      "11    25      7  2017      None  \n",
      "12    25      7  2017     puppo  \n",
      "13    25      7  2017      None  \n",
      "14    24      7  2017     puppo  \n",
      "15    24      7  2017      None  \n",
      "16    23      7  2017      None  \n",
      "17    22      7  2017      None  \n",
      "18    22      7  2017      None  \n",
      "20    20      7  2017      None  \n",
      "21    19      7  2017      None  \n",
      "22    19      7  2017      None  \n",
      "23    19      7  2017      None  \n",
      "24    18      7  2017      None  \n",
      "25    18      7  2017      None  \n",
      "26    17      7  2017      None  \n",
      "27    16      7  2017      None  \n",
      "28    16      7  2017      None  \n",
      "29    15      7  2017    pupper  \n",
      "30    15      7  2017      None  \n",
      "31    15      7  2017      None  \n",
      "33    14      7  2017      None  \n"
     ]
    }
   ],
   "source": [
    "print(replied_tweet_count)\n",
    "print(tw_copy.head(32))"
   ]
  },
  {
   "cell_type": "code",
   "execution_count": 38,
   "metadata": {},
   "outputs": [],
   "source": [
    "#Merging im_test,tw_copy as : clean_df (Dimention Table)\n",
    "#Replacing Source as Appropriate Source and changing type to categorical variable\n",
    "\n",
    "clean_df=pd.DataFrame()\n",
    "clean_df=pd.merge(im_test,tw_copy,on=['tweet_id'],how='left')\n",
    "clean_df=clean_df.drop(['jpg_url','img_num','url','expanded_urls','text'],axis=1)\n",
    "clean_df.source=clean_df.source.astype('category')\n",
    "clean_df.source=clean_df.source.replace(['<a href=\"http://twitter.com/download/iphone\" rel=\"nofollow\">Twitter for iPhone</a>','<a href=\"http://twitter.com\" rel=\"nofollow\">Twitter Web Client</a>','<a href=\"https://about.twitter.com/products/tweetdeck\" rel=\"nofollow\">TweetDeck</a>'],['Twitter for iPhone','Twitter Web Client','TweetDeck'])\n",
    "\n",
    "clean_df=clean_df[~clean_df.source.isnull()]"
   ]
  },
  {
   "cell_type": "code",
   "execution_count": 90,
   "metadata": {},
   "outputs": [
    {
     "name": "stdout",
     "output_type": "stream",
     "text": [
      "                tweet_id                     breed  breed_prob retweet_count  \\\n",
      "2065  890240255349198849                  Pembroke    0.511319          7441   \n",
      "2066  890609185150312448             Irish_terrier    0.487574          4277   \n",
      "2067  890729181411237888                Pomeranian    0.566142         18943   \n",
      "2068  890971913173991426               Appenzeller    0.341703          2079   \n",
      "2069  891087950875897856  Chesapeake_Bay_retriever    0.425595          3124   \n",
      "2070  891327558926688256                    basset    0.555712          9434   \n",
      "2071  891689557279858688        Labrador_retriever    0.168086          8676   \n",
      "2072  891815181378084864                 Chihuahua    0.716012          4166   \n",
      "2073  892177421306343426                 Chihuahua    0.323581          6285   \n",
      "2074  892420643555336193                    No Dog    0.000000          8548   \n",
      "\n",
      "     favorite_count              source      name  rating  hour    weekday  \\\n",
      "2065          31833  Twitter for iPhone    Cassie    14.0    15  Wednesday   \n",
      "2066          27702  Twitter for iPhone      Zoey    13.0    16   Thursday   \n",
      "2067          65281  Twitter for iPhone      None    13.0     0     Friday   \n",
      "2068          11810  Twitter for iPhone       Jax    13.0    16     Friday   \n",
      "2069          20151  Twitter for iPhone      None    13.0     0   Saturday   \n",
      "2070          40183  Twitter for iPhone  Franklin    12.0    16   Saturday   \n",
      "2071          42025  Twitter for iPhone     Darla    13.0    15     Sunday   \n",
      "2072          24934  Twitter for iPhone    Archie    12.0     0     Monday   \n",
      "2073          33127  Twitter for iPhone     Tilly    13.0     0    Tuesday   \n",
      "2074          38654  Twitter for iPhone   Phineas    13.0    16    Tuesday   \n",
      "\n",
      "      date   month  year dog_stage  \n",
      "2065    26    July  2017     doggo  \n",
      "2066    27    July  2017      None  \n",
      "2067    28    July  2017      None  \n",
      "2068    28    July  2017      None  \n",
      "2069    29    July  2017      None  \n",
      "2070    29    July  2017      None  \n",
      "2071    30    July  2017      None  \n",
      "2072    31    July  2017      None  \n",
      "2073     1  August  2017      None  \n",
      "2074     1  August  2017      None  \n",
      "<class 'pandas.core.frame.DataFrame'>\n",
      "Int64Index: 1993 entries, 0 to 2074\n",
      "Data columns (total 14 columns):\n",
      "tweet_id          1993 non-null object\n",
      "breed             1993 non-null category\n",
      "breed_prob        1993 non-null float64\n",
      "retweet_count     1993 non-null object\n",
      "favorite_count    1993 non-null object\n",
      "source            1993 non-null object\n",
      "name              1993 non-null object\n",
      "rating            1993 non-null float64\n",
      "hour              1993 non-null int64\n",
      "weekday           1993 non-null object\n",
      "date              1993 non-null int64\n",
      "month             1993 non-null object\n",
      "year              1993 non-null int64\n",
      "dog_stage         1993 non-null object\n",
      "dtypes: category(1), float64(2), int64(3), object(8)\n",
      "memory usage: 225.8+ KB\n",
      "None\n"
     ]
    }
   ],
   "source": [
    "#Changing type of Tear,day,month,year to Int\n",
    "\n",
    "clean_df['hour']=clean_df['hour'].astype(int)\n",
    "clean_df['weekday']=clean_df['weekday'].astype(int)\n",
    "clean_df['date']=clean_df['date'].astype(int)\n",
    "clean_df['month']=clean_df['month'].astype(int)\n",
    "clean_df['year']=clean_df['year'].astype(int)\n",
    "clean_df['retweet_count']=clean_df['retweet_count'].astype(int)\n",
    "clean_df['favorite_count']=clean_df['favorite_count'].astype(int)\n",
    "\n",
    "int_day=[0,1,2,3,4,5,6]\n",
    "str_day=['Monday','Tuesday','Wednesday','Thursday','Friday','Saturday','Sunday']\n",
    "\n",
    "clean_df.weekday.replace(int_day, str_day, inplace=True)\n",
    "\n",
    "int_month=[1,2,3,4,5,6,7,8,9,10,11,12]\n",
    "str_month=['January','February','March','April','May','June','July','August','September','October','November','December']\n",
    "\n",
    "clean_df.month.replace(int_month, str_month, inplace=True)\n",
    "\n",
    "print(clean_df.tail(10))\n",
    "print(clean_df.info())\n"
   ]
  },
  {
   "cell_type": "code",
   "execution_count": 91,
   "metadata": {},
   "outputs": [],
   "source": [
    "#Defining Datafram :only_dog_clean (Where Breed != 'No Dog')\n",
    "\n",
    "only_dog_clean=pd.DataFrame()\n",
    "only_dog_clean=clean_df.copy()\n",
    "only_dog_clean=only_dog_clean[only_dog_clean.breed!='No Dog']"
   ]
  },
  {
   "cell_type": "code",
   "execution_count": 92,
   "metadata": {},
   "outputs": [
    {
     "name": "stdout",
     "output_type": "stream",
     "text": [
      "<class 'pandas.core.frame.DataFrame'>\n",
      "Int64Index: 1685 entries, 0 to 2073\n",
      "Data columns (total 14 columns):\n",
      "tweet_id          1685 non-null object\n",
      "breed             1685 non-null category\n",
      "breed_prob        1685 non-null float64\n",
      "retweet_count     1685 non-null object\n",
      "favorite_count    1685 non-null object\n",
      "source            1685 non-null object\n",
      "name              1685 non-null object\n",
      "rating            1685 non-null float64\n",
      "hour              1685 non-null int64\n",
      "weekday           1685 non-null object\n",
      "date              1685 non-null int64\n",
      "month             1685 non-null object\n",
      "year              1685 non-null int64\n",
      "dog_stage         1685 non-null object\n",
      "dtypes: category(1), float64(2), int64(3), object(8)\n",
      "memory usage: 191.8+ KB\n",
      "None\n"
     ]
    }
   ],
   "source": [
    "print(only_dog_clean.info())"
   ]
  },
  {
   "cell_type": "markdown",
   "metadata": {},
   "source": [
    "# Data Analysis and Visualization"
   ]
  },
  {
   "cell_type": "markdown",
   "metadata": {},
   "source": [
    "##### Most Retweeted Tweet !!"
   ]
  },
  {
   "cell_type": "code",
   "execution_count": 164,
   "metadata": {},
   "outputs": [
    {
     "data": {
      "text/html": [
       "<div>\n",
       "<style>\n",
       "    .dataframe thead tr:only-child th {\n",
       "        text-align: right;\n",
       "    }\n",
       "\n",
       "    .dataframe thead th {\n",
       "        text-align: left;\n",
       "    }\n",
       "\n",
       "    .dataframe tbody tr th {\n",
       "        vertical-align: top;\n",
       "    }\n",
       "</style>\n",
       "<table border=\"1\" class=\"dataframe\">\n",
       "  <thead>\n",
       "    <tr style=\"text-align: right;\">\n",
       "      <th></th>\n",
       "      <th>tweet_id</th>\n",
       "      <th>breed</th>\n",
       "      <th>name</th>\n",
       "      <th>retweet_count</th>\n",
       "    </tr>\n",
       "  </thead>\n",
       "  <tbody>\n",
       "    <tr>\n",
       "      <th>1221</th>\n",
       "      <td>744234799360020481</td>\n",
       "      <td>Labrador_retriever</td>\n",
       "      <td>None</td>\n",
       "      <td>76986</td>\n",
       "    </tr>\n",
       "  </tbody>\n",
       "</table>\n",
       "</div>"
      ],
      "text/plain": [
       "                tweet_id               breed  name  retweet_count\n",
       "1221  744234799360020481  Labrador_retriever  None          76986"
      ]
     },
     "execution_count": 164,
     "metadata": {},
     "output_type": "execute_result"
    }
   ],
   "source": [
    "only_dog_clean.loc[only_dog_clean.retweet_count==only_dog_clean.retweet_count.max(),['tweet_id','breed','name','retweet_count']]\n"
   ]
  },
  {
   "cell_type": "markdown",
   "metadata": {},
   "source": [
    "Labrador_retriever with an unknown name recieved 76986 Retweets, which makes Tweet_id:744234799360020481 most retweeted Tweet."
   ]
  },
  {
   "cell_type": "markdown",
   "metadata": {},
   "source": [
    "##### Most Favorite Tweet !!"
   ]
  },
  {
   "cell_type": "code",
   "execution_count": 165,
   "metadata": {},
   "outputs": [
    {
     "data": {
      "text/html": [
       "<div>\n",
       "<style>\n",
       "    .dataframe thead tr:only-child th {\n",
       "        text-align: right;\n",
       "    }\n",
       "\n",
       "    .dataframe thead th {\n",
       "        text-align: left;\n",
       "    }\n",
       "\n",
       "    .dataframe tbody tr th {\n",
       "        vertical-align: top;\n",
       "    }\n",
       "</style>\n",
       "<table border=\"1\" class=\"dataframe\">\n",
       "  <thead>\n",
       "    <tr style=\"text-align: right;\">\n",
       "      <th></th>\n",
       "      <th>tweet_id</th>\n",
       "      <th>breed</th>\n",
       "      <th>name</th>\n",
       "      <th>favorite_count</th>\n",
       "    </tr>\n",
       "  </thead>\n",
       "  <tbody>\n",
       "    <tr>\n",
       "      <th>1744</th>\n",
       "      <td>822872901745569793</td>\n",
       "      <td>Lakeland_terrier</td>\n",
       "      <td>None</td>\n",
       "      <td>142803</td>\n",
       "    </tr>\n",
       "  </tbody>\n",
       "</table>\n",
       "</div>"
      ],
      "text/plain": [
       "                tweet_id             breed  name  favorite_count\n",
       "1744  822872901745569793  Lakeland_terrier  None          142803"
      ]
     },
     "execution_count": 165,
     "metadata": {},
     "output_type": "execute_result"
    }
   ],
   "source": [
    "only_dog_clean.loc[only_dog_clean.favorite_count==only_dog_clean.favorite_count.max(),['tweet_id','breed','name','favorite_count']]"
   ]
  },
  {
   "cell_type": "markdown",
   "metadata": {},
   "source": [
    "A Lakeland_terrier made Tweet_id:822872901745569793  most liked tweet, It recieved 142803 likes !"
   ]
  },
  {
   "cell_type": "markdown",
   "metadata": {},
   "source": [
    "##### Most Popular Breed !"
   ]
  },
  {
   "cell_type": "code",
   "execution_count": 107,
   "metadata": {},
   "outputs": [
    {
     "data": {
      "text/plain": [
       "golden_retriever      157\n",
       "Labrador_retriever    108\n",
       "Pembroke               95\n",
       "Chihuahua              91\n",
       "pug                    62\n",
       "Name: breed, dtype: int64"
      ]
     },
     "execution_count": 107,
     "metadata": {},
     "output_type": "execute_result"
    }
   ],
   "source": [
    "only_dog_clean.breed.value_counts()[:5,]"
   ]
  },
  {
   "cell_type": "code",
   "execution_count": null,
   "metadata": {},
   "outputs": [],
   "source": [
    "Retrievers are the most popular choice among dog lovers.\n",
    "They are loyal, loving and intelligent breed, hence most popular."
   ]
  },
  {
   "cell_type": "markdown",
   "metadata": {},
   "source": [
    "###### Which is the most common dog ratings ?"
   ]
  },
  {
   "cell_type": "code",
   "execution_count": 131,
   "metadata": {},
   "outputs": [
    {
     "data": {
      "text/plain": [
       "12.0    426\n",
       "11.0    363\n",
       "10.0    362\n",
       "13.0    229\n",
       "Name: rating, dtype: int64"
      ]
     },
     "execution_count": 131,
     "metadata": {},
     "output_type": "execute_result"
    }
   ],
   "source": [
    "only_dog_clean.rating.value_counts()[:4,]"
   ]
  },
  {
   "cell_type": "markdown",
   "metadata": {},
   "source": [
    " Most Dog have recieved 12 Ratings out of 10 (All raings have been converted with common denominator 10)"
   ]
  },
  {
   "cell_type": "markdown",
   "metadata": {},
   "source": [
    "###### Which was the Most popular Source of Tweeting !"
   ]
  },
  {
   "cell_type": "code",
   "execution_count": 126,
   "metadata": {},
   "outputs": [
    {
     "name": "stdout",
     "output_type": "stream",
     "text": [
      "Twitter for iPhone    98.160237\n",
      "Twitter Web Client     1.305638\n",
      "TweetDeck              0.534125\n",
      "Name: source, dtype: float64\n"
     ]
    },
    {
     "data": {
      "image/png": "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\n",
      "text/plain": [
       "<matplotlib.figure.Figure at 0x7f963d401160>"
      ]
     },
     "metadata": {},
     "output_type": "display_data"
    }
   ],
   "source": [
    "import matplotlib.pyplot as plt\n",
    "label=['Iphone','WebAppliaction','TweetDeck']\n",
    "only_dog_clean.source.value_counts().plot(kind='pie')\n",
    "print(only_dog_clean.source.value_counts()/ len(only_dog_clean) * 100)"
   ]
  },
  {
   "cell_type": "markdown",
   "metadata": {},
   "source": [
    "Twitter Handle's operator uses Iphone for tweeting purpose most of the times compared to 'Twitter Web client' and 'TweetDeck' Application."
   ]
  },
  {
   "cell_type": "markdown",
   "metadata": {},
   "source": [
    "##### Most Popular Hour"
   ]
  },
  {
   "cell_type": "code",
   "execution_count": 110,
   "metadata": {},
   "outputs": [
    {
     "data": {
      "text/plain": [
       "1     236\n",
       "0     225\n",
       "2     171\n",
       "16    170\n",
       "17    144\n",
       "3     139\n",
       "23     95\n",
       "18     82\n",
       "15     77\n",
       "4      76\n",
       "19     68\n",
       "20     62\n",
       "21     59\n",
       "22     55\n",
       "5      18\n",
       "14      4\n",
       "6       3\n",
       "13      1\n",
       "Name: hour, dtype: int64"
      ]
     },
     "execution_count": 110,
     "metadata": {},
     "output_type": "execute_result"
    }
   ],
   "source": [
    "only_dog_clean.hour.value_counts()"
   ]
  },
  {
   "cell_type": "code",
   "execution_count": 130,
   "metadata": {},
   "outputs": [
    {
     "data": {
      "image/png": "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\n",
      "text/plain": [
       "<matplotlib.figure.Figure at 0x7f963d8bbb70>"
      ]
     },
     "metadata": {},
     "output_type": "display_data"
    }
   ],
   "source": [
    "fig, ax = plt.subplots()\n",
    "only_dog_clean['hour'].value_counts(sort=False).plot(kind='bar')\n",
    "ax.set_title('Number of tweets per time of the day', fontweight=\"bold\")\n",
    "ax.set_ylabel('count', fontsize=12)\n",
    "ax.set_xlabel('Time of the day', fontsize=12)\n",
    "plt.xticks(rotation='horizontal') \n",
    "ax.spines['right'].set_visible(False)\n",
    "ax.spines['top'].set_visible(False)"
   ]
  },
  {
   "cell_type": "markdown",
   "metadata": {},
   "source": [
    "There were no tweets fron 7:00 to 13:00 (Sleeping Time)\n",
    "Twitter Account consistently made higher number of tweets during midnight ie: from 23:00 to 03:00"
   ]
  },
  {
   "cell_type": "markdown",
   "metadata": {},
   "source": [
    "##### Most Active Month"
   ]
  },
  {
   "cell_type": "code",
   "execution_count": 93,
   "metadata": {},
   "outputs": [
    {
     "data": {
      "text/plain": [
       "December     340\n",
       "November     271\n",
       "January      200\n",
       "February     156\n",
       "March        151\n",
       "July         124\n",
       "June         110\n",
       ",April        84\n",
       "May           84\n",
       "October       60\n",
       "September     57\n",
       "August        48\n",
       "Name: month, dtype: int64"
      ]
     },
     "execution_count": 93,
     "metadata": {},
     "output_type": "execute_result"
    }
   ],
   "source": [
    "only_dog_clean.month.value_counts()"
   ]
  },
  {
   "cell_type": "code",
   "execution_count": 116,
   "metadata": {},
   "outputs": [
    {
     "data": {
      "text/plain": [
       "(array([ 0,  1,  2,  3,  4,  5,  6,  7,  8,  9, 10, 11]),\n",
       " <a list of 12 Text xticklabel objects>)"
      ]
     },
     "execution_count": 116,
     "metadata": {},
     "output_type": "execute_result"
    },
    {
     "data": {
      "image/png": "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\n",
      "text/plain": [
       "<matplotlib.figure.Figure at 0x7f963d9213c8>"
      ]
     },
     "metadata": {},
     "output_type": "display_data"
    }
   ],
   "source": [
    "#Bar Chart\n",
    "\n",
    "fig, ax = plt.subplots()\n",
    "only_dog_clean['month'].value_counts().plot(kind='bar')\n",
    "\n",
    "ax.set_title('Number of tweets per time of the day', fontweight=\"bold\")\n",
    "\n",
    "ax.set_ylabel('count', fontsize=12)\n",
    "ax.set_xlabel('Time of the day', fontsize=12)\n",
    "\n",
    "plt.xticks(rotation='vertical') "
   ]
  },
  {
   "cell_type": "markdown",
   "metadata": {},
   "source": [
    "This Twitter account was more active in Winters than Summer. \n",
    "340 Tweets were made in December alone which is more than 10 tweets per day on average ! "
   ]
  },
  {
   "cell_type": "markdown",
   "metadata": {},
   "source": [
    "##### Most Active Day of Week"
   ]
  },
  {
   "cell_type": "code",
   "execution_count": 96,
   "metadata": {},
   "outputs": [
    {
     "data": {
      "text/plain": [
       "Monday       280\n",
       "Thursday     247\n",
       "Tuesday      244\n",
       "Friday       242\n",
       "Wednesday    241\n",
       "Sunday       222\n",
       "Saturday     209\n",
       "Name: weekday, dtype: int64"
      ]
     },
     "execution_count": 96,
     "metadata": {},
     "output_type": "execute_result"
    }
   ],
   "source": [
    "only_dog_clean.weekday.value_counts()"
   ]
  },
  {
   "cell_type": "code",
   "execution_count": 125,
   "metadata": {},
   "outputs": [
    {
     "data": {
      "text/plain": [
       "<matplotlib.axes._subplots.AxesSubplot at 0x7f963d79b630>"
      ]
     },
     "execution_count": 125,
     "metadata": {},
     "output_type": "execute_result"
    },
    {
     "data": {
      "image/png": "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\n",
      "text/plain": [
       "<matplotlib.figure.Figure at 0x7f963d47bda0>"
      ]
     },
     "metadata": {},
     "output_type": "display_data"
    }
   ],
   "source": [
    "#Pie Chart\n",
    "only_dog_clean.weekday.value_counts().plot(kind='pie')"
   ]
  },
  {
   "cell_type": "code",
   "execution_count": 128,
   "metadata": {},
   "outputs": [
    {
     "data": {
      "image/png": "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\n",
      "text/plain": [
       "<matplotlib.figure.Figure at 0x7f963db829b0>"
      ]
     },
     "metadata": {},
     "output_type": "display_data"
    }
   ],
   "source": [
    "#Bar Chart\n",
    "fig, ax = plt.subplots()\n",
    "only_dog_clean['weekday'].value_counts(sort=True).plot(kind='bar')\n",
    "ax.set_title('Number of tweets per time of the day', fontweight=\"bold\")\n",
    "ax.set_ylabel('count', fontsize=12)\n",
    "ax.set_xlabel('Time of the day', fontsize=12)\n",
    "plt.xticks(rotation='horizontal') \n",
    "ax.spines['right'].set_visible(False)\n",
    "ax.spines['top'].set_visible(False)"
   ]
  },
  {
   "cell_type": "markdown",
   "metadata": {},
   "source": [
    "Analysis: Most of the tweets were on Weekdays rather than Weekends."
   ]
  },
  {
   "cell_type": "markdown",
   "metadata": {},
   "source": [
    "##### Most Active Day"
   ]
  },
  {
   "cell_type": "code",
   "execution_count": 97,
   "metadata": {},
   "outputs": [
    {
     "data": {
      "text/plain": [
       "25    68\n",
       "23    64\n",
       "17    64\n",
       "28    64\n",
       "8     61\n",
       "29    60\n",
       "21    59\n",
       "20    58\n",
       "16    58\n",
       "24    57\n",
       "18    57\n",
       "3     56\n",
       "4     56\n",
       "5     56\n",
       "2     55\n",
       "6     55\n",
       "13    54\n",
       "1     54\n",
       "7     53\n",
       "22    53\n",
       "11    52\n",
       "19    52\n",
       "27    52\n",
       "9     50\n",
       "15    50\n",
       "14    49\n",
       "10    48\n",
       "12    47\n",
       "26    47\n",
       "30    43\n",
       "31    33\n",
       "Name: date, dtype: int64"
      ]
     },
     "execution_count": 97,
     "metadata": {},
     "output_type": "execute_result"
    }
   ],
   "source": [
    "only_dog_clean.date.value_counts()"
   ]
  },
  {
   "cell_type": "code",
   "execution_count": 118,
   "metadata": {},
   "outputs": [
    {
     "data": {
      "image/png": "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\n",
      "text/plain": [
       "<matplotlib.figure.Figure at 0x7f963c65a6a0>"
      ]
     },
     "metadata": {},
     "output_type": "display_data"
    }
   ],
   "source": [
    "fig, ax = plt.subplots()\n",
    "only_dog_clean['date'].value_counts(sort=False).plot(kind='bar')\n",
    "ax.set_title('Number of tweets per time of the day', fontweight=\"bold\")\n",
    "ax.set_ylabel('count', fontsize=12)\n",
    "ax.set_xlabel('Time of the day', fontsize=12)\n",
    "plt.xticks(rotation='vertical') \n",
    "ax.spines['right'].set_visible(False)\n",
    "ax.spines['top'].set_visible(False)"
   ]
  },
  {
   "cell_type": "markdown",
   "metadata": {},
   "source": [
    "##### Most Popular Dog Stage"
   ]
  },
  {
   "cell_type": "code",
   "execution_count": 105,
   "metadata": {},
   "outputs": [
    {
     "data": {
      "text/plain": [
       "None             84.569733\n",
       "pupper            9.970326\n",
       "doggo             3.204748\n",
       "puppo             1.246291\n",
       "doggo,pupper      0.474777\n",
       "floofer           0.415430\n",
       "doggo,puppo       0.059347\n",
       "doggo,floofer     0.059347\n",
       "Name: dog_stage, dtype: float64"
      ]
     },
     "execution_count": 105,
     "metadata": {},
     "output_type": "execute_result"
    }
   ],
   "source": [
    "only_dog_clean.dog_stage.value_counts()/len(only_dog_clean)*100"
   ]
  },
  {
   "cell_type": "markdown",
   "metadata": {},
   "source": [
    "Although we have 85 percent missing Data for Dog current Stage,\n",
    "As per Available data 10 percent of Dogs are Pupper and seems popular choice."
   ]
  },
  {
   "cell_type": "markdown",
   "metadata": {},
   "source": [
    "##### Most Popular Dog Name"
   ]
  },
  {
   "cell_type": "code",
   "execution_count": 104,
   "metadata": {},
   "outputs": [
    {
     "data": {
      "text/plain": [
       "Cooper     10\n",
       "Lucy       10\n",
       "Charlie    10\n",
       "Oliver      9\n",
       "Tucker      9\n",
       "Name: name, dtype: int64"
      ]
     },
     "execution_count": 104,
     "metadata": {},
     "output_type": "execute_result"
    }
   ],
   "source": [
    "only_dog_clean.name.value_counts()[1:6,]"
   ]
  },
  {
   "cell_type": "markdown",
   "metadata": {},
   "source": [
    "Cooper,Lucy,Charlie are among most popular choices for Dog names.\n",
    "If you want your dog to be different from others Please dont name him Cooper !"
   ]
  }
 ],
 "metadata": {
  "celltoolbar": "Raw Cell Format",
  "kernelspec": {
   "display_name": "Python 3",
   "language": "python",
   "name": "python3"
  },
  "language_info": {
   "codemirror_mode": {
    "name": "ipython",
    "version": 3
   },
   "file_extension": ".py",
   "mimetype": "text/x-python",
   "name": "python",
   "nbconvert_exporter": "python",
   "pygments_lexer": "ipython3",
   "version": "3.6.3"
  }
 },
 "nbformat": 4,
 "nbformat_minor": 2
}
